{
  "nbformat": 4,
  "nbformat_minor": 0,
  "metadata": {
    "colab": {
      "provenance": [],
      "gpuType": "T4"
    },
    "kernelspec": {
      "name": "python3",
      "display_name": "Python 3"
    },
    "language_info": {
      "name": "python"
    },
    "accelerator": "GPU"
  },
  "cells": [
    {
      "cell_type": "markdown",
      "source": [
        "# Experience the Power of DeepSeek R1 with Distill Qwen 1.5B\n",
        "\n",
        "Harness the capabilities of Transformers and DeepSeek with ease!\n",
        "\n",
        "By : Abdellahi El Moustapha\n"
      ],
      "metadata": {
        "id": "6dxqPSkyeDoO"
      }
    },
    {
      "cell_type": "markdown",
      "source": [
        "## Downloading the model from huggingface\n",
        "https://huggingface.co/deepseek-ai/DeepSeek-R1-Distill-Qwen-1.5B"
      ],
      "metadata": {
        "id": "4vwR5z2LeN8h"
      }
    },
    {
      "cell_type": "code",
      "execution_count": null,
      "metadata": {
        "id": "uU4FwZWVbgdO"
      },
      "outputs": [],
      "source": [
        "from transformers import AutoModelForCausalLM, AutoTokenizer\n",
        "\n",
        "# Original code structure remains unchanged\n",
        "model_id = \"deepseek-ai/DeepSeek-R1-Distill-Qwen-1.5B\"\n",
        "model = AutoModelForCausalLM.from_pretrained(model_id).to(\"cuda\")\n",
        "tokenizer = AutoTokenizer.from_pretrained(model_id)"
      ]
    },
    {
      "cell_type": "markdown",
      "source": [
        "## Provide a prompt & generation parameters"
      ],
      "metadata": {
        "id": "TH2jLGUHeSty"
      }
    },
    {
      "cell_type": "code",
      "source": [
        "prompt = \"Create a Python function to calculate Fibonacci sequence with O(n) time complexity\"  #  user prompt\n",
        "messages = [\n",
        "    {\"role\": \"system\", \"content\": \"You are an expert Python developer specializing in algorithms.\"},  #  system prompt\n",
        "    {\"role\": \"user\", \"content\": prompt}\n",
        "]\n",
        "text = tokenizer.apply_chat_template(\n",
        "    messages,\n",
        "    tokenize=False,\n",
        "    add_generation_prompt=True\n",
        ")\n",
        "model_inputs = tokenizer([text], return_tensors=\"pt\").to(model.device)"
      ],
      "metadata": {
        "id": "A122cuXIcAUu"
      },
      "execution_count": 4,
      "outputs": []
    },
    {
      "cell_type": "markdown",
      "source": [
        "## AI Generation"
      ],
      "metadata": {
        "id": "ImQgJ188eZ3X"
      }
    },
    {
      "cell_type": "code",
      "source": [
        "# input processing logic\n",
        "generated_ids = model.generate(**model_inputs, max_new_tokens=1500)\n",
        "generated_ids = [output_ids[len(input_ids):] for input_ids, output_ids in zip(model_inputs.input_ids, generated_ids)]"
      ],
      "metadata": {
        "colab": {
          "base_uri": "https://localhost:8080/"
        },
        "id": "pGg5GtgCcDCM",
        "outputId": "00eb8ca7-39cb-4b03-cfc2-b9314195153d"
      },
      "execution_count": 5,
      "outputs": [
        {
          "output_type": "stream",
          "name": "stderr",
          "text": [
            "Setting `pad_token_id` to `eos_token_id`:151643 for open-end generation.\n"
          ]
        }
      ]
    },
    {
      "cell_type": "markdown",
      "source": [
        "##  output decoding"
      ],
      "metadata": {
        "id": "8aIGWhNwefE-"
      }
    },
    {
      "cell_type": "code",
      "source": [
        "response = tokenizer.batch_decode(generated_ids, skip_special_tokens=True)[0]\n"
      ],
      "metadata": {
        "id": "EfunHq9IcEH0"
      },
      "execution_count": 6,
      "outputs": []
    },
    {
      "cell_type": "markdown",
      "source": [
        "## Let's look at the response!"
      ],
      "metadata": {
        "id": "RjUJoLlTehLA"
      }
    },
    {
      "cell_type": "code",
      "source": [
        "print(response)"
      ],
      "metadata": {
        "colab": {
          "base_uri": "https://localhost:8080/"
        },
        "id": "_dQ4sBtoct_R",
        "outputId": "9c2bd457-ef03-44b8-9ffe-9f163609ec3b"
      },
      "execution_count": 7,
      "outputs": [
        {
          "output_type": "stream",
          "name": "stdout",
          "text": [
            "<think>\n",
            "Okay, so I need to create a Python function to calculate the Fibonacci sequence with O(n) time complexity. Hmm, let me think about how to approach this. \n",
            "\n",
            "First, I remember that the Fibonacci sequence is a series where each number is the sum of the two preceding ones, usually starting with 0 and 1. So the sequence goes 0, 1, 1, 2, 3, 5, 8, and so on. \n",
            "\n",
            "The user wants a function that can efficiently compute the nth Fibonacci number. They mentioned O(n) time complexity, which suggests that the algorithm should run in linear time, meaning the time it takes grows linearly with the input size n. \n",
            "\n",
            "I know that the naive recursive approach is very slow because it recalculates the same Fibonacci numbers many times. For example, calculating fib(5) would require calculating fib(4) and fib(3), but fib(4) requires fib(3) and fib(2), and so on, leading to an exponential number of calls. That's definitely not efficient.\n",
            "\n",
            "What about an iterative approach? The iterative method involves looping from 0 to n and calculating each Fibonacci number step by step. For example, for n=5, you calculate fib(0)=0, fib(1)=1, fib(2)=1, fib(3)=2, fib(4)=3, fib(5)=5. This approach runs in O(n) time because it makes exactly n steps. \n",
            "\n",
            "But wait, the user mentioned O(n) time complexity. The iterative approach does that, but maybe there's a way to optimize it further. I recall that matrix exponentiation and fast doubling are methods that can compute Fibonacci numbers in O(log n) time, which is even faster. However, implementing these might be a bit more complex.\n",
            "\n",
            "But since the user asked for O(n) time, maybe the iterative approach is sufficient for their needs. I should check if the iterative method meets their requirements. It does compute each Fibonacci number in sequence, so it should be correct.\n",
            "\n",
            "Let me outline the steps for the iterative approach:\n",
            "\n",
            "1. Handle base cases where n is 0 or 1, returning 0 and 1 respectively.\n",
            "2. For n >= 2, initialize the first two Fibonacci numbers as a=0 and b=1.\n",
            "3. Loop from 2 to n:\n",
            "   a. Calculate the next Fibonacci number as a + b.\n",
            "   b. Update a to be b and b to be the new value.\n",
            "4. After the loop, return b as the nth Fibonacci number.\n",
            "\n",
            "Testing this with some examples:\n",
            "\n",
            "- fib(0) should return 0.\n",
            "- fib(1) should return 1.\n",
            "- fib(2) should return 1 (0+1).\n",
            "- fib(3) should return 2 (1+1).\n",
            "- fib(4) should return 3 (1+2).\n",
            "- fib(5) should return 5 (2+3).\n",
            "\n",
            "This seems correct. \n",
            "\n",
            "I should also consider the constraints. If n can be very large, say up to 10^6 or more, the iterative approach might still be efficient enough, but the user didn't specify any constraints, so it's acceptable.\n",
            "\n",
            "Wait, what about space? The iterative approach only uses O(1) space, which is efficient. It doesn't store all previous Fibonacci numbers, which is better than the recursive approach that requires O(n) space.\n",
            "\n",
            "So, putting it all together, the function can be written as:\n",
            "\n",
            "def fib(n):\n",
            "    if n == 0:\n",
            "        return 0\n",
            "    elif n == 1:\n",
            "        return 1\n",
            "    a, b = 0, 1\n",
            "    for i in range(2, n+1):\n",
            "        c = a + b\n",
            "        a = b\n",
            "        b = c\n",
            "    return b\n",
            "\n",
            "This should work for all n >= 0, including n=0 and n=1. Let me test a few more values:\n",
            "\n",
            "- fib(6) should be 8 (3+5).\n",
            "- fib(7) should be 13 (5+8).\n",
            "- fib(8) should be 21 (8+13).\n",
            "\n",
            "Yes, this seems correct. \n",
            "\n",
            "I think this implementation meets the user's requirement of O(n) time complexity, as it makes exactly n iterations, each taking constant time. So, the overall time is O(n), which is what they requested.\n",
            "</think>\n",
            "\n",
            "To calculate the nth Fibonacci number efficiently with O(n) time complexity, we can use an iterative approach. This method ensures that each Fibonacci number is computed in sequence, leading to a linear time complexity relative to the input size.\n",
            "\n",
            "### Approach\n",
            "The Fibonacci sequence is defined such that each number is the sum of the two preceding ones, starting from 0 and 1. The iterative approach avoids the inefficiencies of recursion by using a loop to build up the sequence step by step.\n",
            "\n",
            "1. **Base Cases**: Handle the simplest cases where `n` is 0 or 1 directly.\n",
            "2. **Iterative Calculation**: For `n` greater than 1, initialize the first two Fibonacci numbers. Then, iterate from 2 to `n`, updating the current values in each iteration to compute the next Fibonacci number.\n",
            "\n",
            "This approach ensures that each Fibonacci number is computed in constant time, leading to an overall time complexity of O(n).\n",
            "\n",
            "### Solution Code\n",
            "```python\n",
            "def fib(n):\n",
            "    if n == 0:\n",
            "        return 0\n",
            "    elif n == 1:\n",
            "        return 1\n",
            "    a, b = 0, 1\n",
            "    for i in range(2, n + 1):\n",
            "        c = a + b\n",
            "        a = b\n",
            "        b = c\n",
            "    return b\n",
            "```\n",
            "\n",
            "### Explanation\n",
            "- **Base Cases**: The function immediately returns 0 for `n = 0` and 1 for `n = 1`.\n",
            "- **Initialization**: Variables `a` and `b` are initialized to 0 and 1, representing the first two Fibonacci numbers.\n",
            "- **Iteration**: For each number from 2 to `n`, compute the next Fibonacci number as the sum of the previous two (`a + b`). Update `a` to the old `b` and `b` to the newly computed Fibonacci number.\n",
            "- **Return Result**: After completing the loop, `b` holds the nth Fibonacci number, which is returned as the result.\n",
            "\n",
            "This method efficiently computes the Fibonacci sequence in linear time, making it suitable for reasonably large values of `n`.\n"
          ]
        }
      ]
    }
  ]
}